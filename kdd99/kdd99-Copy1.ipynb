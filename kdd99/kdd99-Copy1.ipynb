{
 "cells": [
  {
   "cell_type": "markdown",
   "metadata": {},
   "source": [
    "### - import libraries"
   ]
  },
  {
   "cell_type": "code",
   "execution_count": 1,
   "metadata": {},
   "outputs": [],
   "source": [
    "import torch\n",
    "import torch.nn as nn\n",
    "import numpy as np\n",
    "import pandas as pd\n",
    "import matplotlib.pyplot as plt\n",
    "%matplotlib inline\n",
    "from time import time\n",
    "from tqdm import tqdm\n",
    "import pickle\n",
    "from sklearn.metrics import average_precision_score\n",
    "from sklearn.metrics import recall_score"
   ]
  },
  {
   "cell_type": "code",
   "execution_count": 2,
   "metadata": {},
   "outputs": [],
   "source": [
    "# Set random seem for reproducibility\n",
    "manualSeed = 2019\n",
    "torch.manual_seed(manualSeed)\n",
    "np.random.seed(manualSeed)"
   ]
  },
  {
   "cell_type": "code",
   "execution_count": 3,
   "metadata": {},
   "outputs": [],
   "source": [
    "ngpu = torch.cuda.device_count()\n",
    "device = torch.device(\"cuda:0\" if (torch.cuda.is_available() and ngpu > 0) else \"cpu\")"
   ]
  },
  {
   "cell_type": "markdown",
   "metadata": {},
   "source": [
    "### - import data"
   ]
  },
  {
   "cell_type": "code",
   "execution_count": 4,
   "metadata": {},
   "outputs": [],
   "source": [
    "def save_obj(obj, name ):\n",
    "    with open('obj/'+ name + '.pkl', 'wb') as f:\n",
    "        pickle.dump(obj, f, pickle.HIGHEST_PROTOCOL)\n",
    "        \n",
    "def load_obj(name ):\n",
    "    with open('obj/' + name + '.pkl', 'rb') as f:\n",
    "        return pickle.load(f)\n",
    "    \n",
    "dataset = load_obj('kdd99')\n",
    "x_train = dataset['x_train']\n",
    "y_train = dataset['y_train']\n",
    "x_valid = dataset['x_valid']\n",
    "y_valid = dataset['y_valid']\n",
    "x_test = dataset['x_test']\n",
    "y_test = dataset['y_test']\n",
    "\n",
    "x_train = torch.tensor(x_train, device=device)\n",
    "# y_train = torch.tensor(y_train, device=device)\n",
    "x_valid = torch.tensor(x_valid, device=device)\n",
    "# y_valid = torch.tensor(y_valid, device=device)\n",
    "x_test = torch.tensor(x_test, device=device)\n",
    "# y_test = torch.tensor(y_test, device=device)"
   ]
  },
  {
   "cell_type": "markdown",
   "metadata": {},
   "source": [
    "### - define hyper-parameters"
   ]
  },
  {
   "cell_type": "code",
   "execution_count": 5,
   "metadata": {},
   "outputs": [],
   "source": [
    "G_D_num = 10\n",
    "G_group = {}\n",
    "D_group = {}\n",
    "z_avg = 0\n",
    "BATCH_SIZE = 128\n",
    "EPOCH = 10\n",
    "LR_G = 0.1  # learning rate for generator\n",
    "LR_D = 0.1  # learning rate for discriminator\n",
    "random_neuron = 100  # number of neurons as input of generator\n",
    "components = 121  # total number of points that G generated\n",
    "critic_num = 5\n",
    "D_loss_history = []\n",
    "G_loss_history = []\n",
    "alpha = 0.1"
   ]
  },
  {
   "cell_type": "markdown",
   "metadata": {},
   "source": [
    "### - define network class"
   ]
  },
  {
   "cell_type": "code",
   "execution_count": 6,
   "metadata": {},
   "outputs": [],
   "source": [
    "class Generator(nn.Module):\n",
    "    def __init__(self, ngpu):\n",
    "        super(Generator, self).__init__()\n",
    "        self.ngpu = ngpu\n",
    "        self.main = nn.Sequential(\n",
    "            nn.Linear(random_neuron, 128),\n",
    "            nn.ReLU(True),\n",
    "            nn.Linear(128, 128),\n",
    "            nn.ReLU(True),\n",
    "            nn.Linear(128, components)\n",
    "        )\n",
    "\n",
    "    def forward(self, input):\n",
    "        return self.main(input)"
   ]
  },
  {
   "cell_type": "code",
   "execution_count": 7,
   "metadata": {},
   "outputs": [],
   "source": [
    "class Discriminator(nn.Module):\n",
    "    def __init__(self, ngpu):\n",
    "        super(Discriminator, self).__init__()\n",
    "        self.ngpu = ngpu\n",
    "        self.main = nn.Sequential(\n",
    "            nn.Linear(components, 128),\n",
    "            nn.ReLU(True),\n",
    "            nn.Linear(128, 128),\n",
    "            nn.ReLU(True),\n",
    "            nn.Linear(128, 1),\n",
    "            nn.Sigmoid()\n",
    "        )\n",
    "\n",
    "    def forward(self, input):\n",
    "        return self.main(input)"
   ]
  },
  {
   "cell_type": "markdown",
   "metadata": {},
   "source": [
    "### - training"
   ]
  },
  {
   "cell_type": "code",
   "execution_count": 8,
   "metadata": {
    "collapsed": true
   },
   "outputs": [
    {
     "name": "stderr",
     "output_type": "stream",
     "text": [
      "100%|██████████| 10/10 [02:53<00:00, 17.32s/it]\n"
     ]
    },
    {
     "data": {
      "image/png": "[encoded data removed]",
      "text/plain": [
       "<Figure size 432x288 with 1 Axes>"
      ]
     },
     "metadata": {
      "needs_background": "light"
     },
     "output_type": "display_data"
    },
    {
     "data": {
      "image/png": "[encoded data removed]",
      "text/plain": [
       "<Figure size 432x288 with 1 Axes>"
      ]
     },
     "metadata": {
      "needs_background": "light"
     },
     "output_type": "display_data"
    },
    {
     "name": "stdout",
     "output_type": "stream",
     "text": [
      "1/10 is done! Time is 173.63 seconds;\n"
     ]
    },
    {
     "name": "stderr",
     "output_type": "stream",
     "text": [
      "\r",
      "  0%|          | 0/10 [00:00<?, ?it/s]"
     ]
    },
    {
     "name": "stdout",
     "output_type": "stream",
     "text": [
      "Precision score: 0.20\n",
      "Recall score: 0.00\n",
      "F1 score: 0.00\n",
      "*************************************************************\n"
     ]
    },
    {
     "name": "stderr",
     "output_type": "stream",
     "text": [
      "\n"
     ]
    },
    {
     "ename": "KeyboardInterrupt",
     "evalue": "",
     "output_type": "error",
     "traceback": [
      "\u001b[0;31m---------------------------------------------------------------------------\u001b[0m",
      "\u001b[0;31mKeyboardInterrupt\u001b[0m                         Traceback (most recent call last)",
      "\u001b[0;32m<ipython-input-8-db52b6263adf>\u001b[0m in \u001b[0;36m<module>\u001b[0;34m\u001b[0m\n\u001b[1;32m     30\u001b[0m                 D_loss = -torch.mean(\n\u001b[1;32m     31\u001b[0m                     torch.log(prob_real + 1e-9) + torch.log(1. - prob_fake + 1e-9))\n\u001b[0;32m---> 32\u001b[0;31m                 \u001b[0mG_loss\u001b[0m \u001b[0;34m=\u001b[0m \u001b[0mtorch\u001b[0m\u001b[0;34m.\u001b[0m\u001b[0mmean\u001b[0m\u001b[0;34m(\u001b[0m\u001b[0mtorch\u001b[0m\u001b[0;34m.\u001b[0m\u001b[0mlog\u001b[0m\u001b[0;34m(\u001b[0m\u001b[0;36m1.\u001b[0m \u001b[0;34m-\u001b[0m \u001b[0mprob_fake\u001b[0m \u001b[0;34m+\u001b[0m \u001b[0;36m1e-9\u001b[0m\u001b[0;34m)\u001b[0m\u001b[0;34m)\u001b[0m\u001b[0;34m\u001b[0m\u001b[0;34m\u001b[0m\u001b[0m\n\u001b[0m\u001b[1;32m     33\u001b[0m \u001b[0;34m\u001b[0m\u001b[0m\n\u001b[1;32m     34\u001b[0m                 \u001b[0mD_loss_history\u001b[0m\u001b[0;34m.\u001b[0m\u001b[0mappend\u001b[0m\u001b[0;34m(\u001b[0m\u001b[0mD_loss\u001b[0m\u001b[0;34m.\u001b[0m\u001b[0mitem\u001b[0m\u001b[0;34m(\u001b[0m\u001b[0;34m)\u001b[0m\u001b[0;34m)\u001b[0m\u001b[0;34m\u001b[0m\u001b[0;34m\u001b[0m\u001b[0m\n",
      "\u001b[0;32m/usr/local/lib/python3.7/dist-packages/torch/tensor.py\u001b[0m in \u001b[0;36m__rsub__\u001b[0;34m(self, other)\u001b[0m\n\u001b[1;32m    369\u001b[0m \u001b[0;34m\u001b[0m\u001b[0m\n\u001b[1;32m    370\u001b[0m     \u001b[0;32mdef\u001b[0m \u001b[0m__rsub__\u001b[0m\u001b[0;34m(\u001b[0m\u001b[0mself\u001b[0m\u001b[0;34m,\u001b[0m \u001b[0mother\u001b[0m\u001b[0;34m)\u001b[0m\u001b[0;34m:\u001b[0m\u001b[0;34m\u001b[0m\u001b[0;34m\u001b[0m\u001b[0m\n\u001b[0;32m--> 371\u001b[0;31m         \u001b[0;32mreturn\u001b[0m \u001b[0m_C\u001b[0m\u001b[0;34m.\u001b[0m\u001b[0m_VariableFunctions\u001b[0m\u001b[0;34m.\u001b[0m\u001b[0mrsub\u001b[0m\u001b[0;34m(\u001b[0m\u001b[0mself\u001b[0m\u001b[0;34m,\u001b[0m \u001b[0mother\u001b[0m\u001b[0;34m)\u001b[0m\u001b[0;34m\u001b[0m\u001b[0;34m\u001b[0m\u001b[0m\n\u001b[0m\u001b[1;32m    372\u001b[0m \u001b[0;34m\u001b[0m\u001b[0m\n\u001b[1;32m    373\u001b[0m     \u001b[0;32mdef\u001b[0m \u001b[0m__rdiv__\u001b[0m\u001b[0;34m(\u001b[0m\u001b[0mself\u001b[0m\u001b[0;34m,\u001b[0m \u001b[0mother\u001b[0m\u001b[0;34m)\u001b[0m\u001b[0;34m:\u001b[0m\u001b[0;34m\u001b[0m\u001b[0;34m\u001b[0m\u001b[0m\n",
      "\u001b[0;31mKeyboardInterrupt\u001b[0m: "
     ]
    }
   ],
   "source": [
    "for iter in range(G_D_num):\n",
    "\n",
    "    begin = time()\n",
    "\n",
    "    D = Discriminator(ngpu).to(device)\n",
    "    G = Generator(ngpu).to(device)\n",
    "\n",
    "    # optimization\n",
    "    opt_D = torch.optim.Adam(D.parameters(), lr=LR_D)\n",
    "    opt_G = torch.optim.Adam(G.parameters(), lr=LR_G)\n",
    "\n",
    "    for step in tqdm(range(EPOCH)):\n",
    "        \n",
    "        for batch_iter in range(x_train.shape[0] // BATCH_SIZE):\n",
    "            \n",
    "            selected_real = x_train[batch_iter * BATCH_SIZE:(batch_iter * BATCH_SIZE + BATCH_SIZE)].float()\n",
    "            for _ in range(critic_num):\n",
    "\n",
    "                # random samples of real data\n",
    "#                 idx = np.random.choice(len(x_train), BATCH_SIZE)\n",
    "#                 selected_real = x_train[idx].float()\n",
    "\n",
    "                # random noises\n",
    "                G_noise = torch.randn(BATCH_SIZE, random_neuron).cuda()\n",
    "                G_data = G(G_noise)\n",
    "\n",
    "                prob_real = D(selected_real)  # D try to increase this prob\n",
    "                prob_fake = D(G_data)  # D try to decrease this prob\n",
    "\n",
    "                D_loss = -torch.mean(\n",
    "                    torch.log(prob_real + 1e-9) + torch.log(1. - prob_fake + 1e-9))\n",
    "                G_loss = torch.mean(torch.log(1. - prob_fake + 1e-9))\n",
    "                \n",
    "                D_loss_history.append(D_loss.item())\n",
    "                G_loss_history.append(G_loss.item())\n",
    "\n",
    "                opt_D.zero_grad()\n",
    "                D_loss.backward(retain_graph=True)  # reusing computational graph\n",
    "                opt_D.step()\n",
    "\n",
    "            opt_G.zero_grad()\n",
    "            G_loss.backward()\n",
    "            opt_G.step()\n",
    "    \n",
    "    plt.plot(D_loss_history)\n",
    "    plt.show()\n",
    "    plt.plot(G_loss_history)\n",
    "    plt.show()\n",
    "    \n",
    "    end = time()\n",
    "    print(\n",
    "        str(iter + 1) + '/' + str(G_D_num) +\n",
    "        ' is done! Time is {0:0.2f} seconds;'.format((end - begin)))\n",
    "\n",
    "    prediction = D(x_test.float()).cpu().detach().numpy()\n",
    "    tmp_score = np.zeros_like(prediction)\n",
    "    for i in range(prediction.shape[0]):\n",
    "        if prediction[i] > alpha:\n",
    "            tmp_score[i] = 0\n",
    "        else:\n",
    "            tmp_score[i] = 1\n",
    "\n",
    "    precision = average_precision_score(y_test.reshape([-1, 1]), tmp_score)\n",
    "    recall = recall_score(y_test.reshape([-1, 1]), tmp_score)\n",
    "    F1 = 2 * (precision * recall) / (precision + recall)\n",
    "    print('Precision score: {0:0.2f}'.format(precision))\n",
    "    print('Recall score: {0:0.2f}'.format(recall))\n",
    "    print('F1 score: {0:0.2f}'.format(F1))\n",
    "    print('*************************************************************')\n",
    "\n",
    "    G_group['G' + str(iter)] = G\n",
    "    D_group['D' + str(iter)] = D"
   ]
  },
  {
   "cell_type": "markdown",
   "metadata": {},
   "source": [
    "---"
   ]
  },
  {
   "cell_type": "markdown",
   "metadata": {},
   "source": [
    "# evaluation"
   ]
  },
  {
   "cell_type": "code",
   "execution_count": null,
   "metadata": {
    "scrolled": true
   },
   "outputs": [],
   "source": [
    "test_score = 0.0\n",
    "for iter in range(G_D_num):\n",
    "    prediction = D_group['D' + str(iter)](x_test.float()).cpu().detach().numpy()\n",
    "    test_score = test_score + prediction / G_D_num\n",
    "\n",
    "for i in range(test_score.shape[0]):\n",
    "    if test_score[i] > alpha:\n",
    "        test_score[i] = 0\n",
    "    else:\n",
    "        test_score[i] = 1\n",
    "\n",
    "precision = average_precision_score(y_test.reshape([-1,1]), test_score)\n",
    "recall = recall_score(y_test.reshape([-1,1]), test_score)\n",
    "F1 = 2 * (precision * recall) / (precision + recall)\n",
    "print('Precision score: {0:0.2f}'.format(precision))\n",
    "print('Recall score: {0:0.2f}'.format(recall))\n",
    "print('F1 score: {0:0.2f}'.format(F1))"
   ]
  },
  {
   "cell_type": "markdown",
   "metadata": {},
   "source": [
    "---"
   ]
  },
  {
   "cell_type": "code",
   "execution_count": 10,
   "metadata": {},
   "outputs": [
    {
     "name": "stdout",
     "output_type": "stream",
     "text": [
      "tensor([[-0.5256,  0.7296, -0.4394,  ...,  0.5928,  0.8180, -0.4982],\n",
      "        [-0.4238, -0.3940, -0.4305,  ...,  0.5134, -0.4331, -0.6987],\n",
      "        [ 0.7150,  0.5640,  0.6016,  ..., -0.6546, -0.8226,  0.5721],\n",
      "        ...,\n",
      "        [ 0.7183,  0.5933,  0.7248,  ..., -0.6559, -1.0558,  0.6526],\n",
      "        [-0.4082, -0.5156, -0.4252,  ...,  0.3791,  0.0143, -0.5689],\n",
      "        [-0.5460, -0.6454, -0.6115,  ...,  0.5173,  0.6218, -0.5864]],\n",
      "       device='cuda:0')\n",
      "tensor([ 0.6590, -0.8319,  0.5743,  0.6139, -0.6555, -0.8128, -0.0811,  0.6027,\n",
      "         0.7561, -0.5089,  0.6165,  0.6623,  0.8874, -0.3527, -0.6965, -0.6590,\n",
      "         0.8374, -0.5074,  0.6287,  0.6522,  0.8154,  0.6701, -0.4013, -0.4554,\n",
      "        -0.6992, -0.1092, -0.5221, -0.6278, -0.5236, -0.7296,  0.7349, -0.7531,\n",
      "        -0.5527, -0.0148,  0.6093,  0.5615, -0.6414, -0.6373,  0.7297,  0.0174,\n",
      "        -0.6394, -0.0557, -0.7286, -0.6705,  0.6150, -0.4886, -0.3049, -0.6915,\n",
      "        -0.6452, -0.6843, -0.2887,  0.6949, -0.5207,  0.7790, -0.6376, -0.6009,\n",
      "        -0.6595, -0.7287, -0.7811,  0.6546, -0.6536,  0.7879, -0.4961, -0.4788,\n",
      "         0.7044,  0.6557, -0.7178, -0.3085,  0.2334,  0.5641,  0.5839, -0.3469,\n",
      "        -0.2241, -0.5858,  0.6743, -0.7329, -0.7082,  0.6546, -0.6975,  0.4262,\n",
      "        -0.7103, -0.5271, -0.6761, -0.6771, -0.5207, -0.6262, -0.6820, -0.4498,\n",
      "         0.4226,  0.7183, -0.6140, -0.6384, -0.5031, -0.6788, -0.4062, -0.5739,\n",
      "        -0.3486,  0.6411, -0.7247,  0.6491, -0.5887, -0.7357, -0.6591,  0.5322,\n",
      "        -0.0739, -0.5707, -0.4345, -0.4028, -0.2944, -0.6242, -0.2745, -0.7138,\n",
      "         0.6672, -0.5807, -0.0791,  0.8861, -0.2792, -0.6837,  0.2863,  0.2210,\n",
      "         0.3679, -0.5974,  0.6496, -0.7411, -0.3534,  0.7284, -0.6917,  0.6536],\n",
      "       device='cuda:0')\n",
      "tensor([[ 0.6253,  0.3589, -0.5040,  ..., -0.6838, -0.4364,  0.7148],\n",
      "        [-0.6598, -0.7283, -0.4911,  ..., -0.4071, -0.7568, -0.5795],\n",
      "        [-0.2138, -0.4047, -0.5602,  ..., -0.6507,  0.5177, -0.7536],\n",
      "        ...,\n",
      "        [-0.4194,  0.3001,  0.6486,  ...,  0.6604,  0.6769, -0.4114],\n",
      "        [ 0.0312, -0.6378,  0.5272,  ...,  0.6330, -0.6186, -0.5647],\n",
      "        [ 0.3798, -0.7040, -0.5995,  ..., -0.3969, -0.4724,  0.6661]],\n",
      "       device='cuda:0')\n",
      "tensor([ 0.3516, -0.3853, -0.8444,  0.4004,  0.3167, -0.6477, -0.0623, -0.7674,\n",
      "        -0.1182, -0.5778, -0.1256, -0.0863,  0.4185, -0.5986, -0.6483, -0.5684,\n",
      "         0.7435,  0.0394, -0.7350, -0.1969, -0.7900, -0.5760, -0.5851, -0.6031,\n",
      "        -0.0286, -0.3515, -0.6012, -0.6379,  0.6857, -0.5991, -0.0743, -0.1737,\n",
      "        -0.6759, -0.6831, -0.3142, -0.3369, -0.0385, -0.5501, -0.6835, -0.4347,\n",
      "        -0.2982, -0.6494,  0.3045, -0.6528, -0.6233, -0.0655,  0.3371, -0.4477,\n",
      "         0.3341,  0.7724,  0.0913, -0.6431, -0.3646, -0.4058,  0.2887,  0.6840,\n",
      "        -0.0514,  0.2813, -0.6435, -0.3350,  0.4300,  0.3405, -0.6642, -0.1714,\n",
      "        -0.5936, -0.6720,  0.5314, -0.2931, -0.6155,  0.2872, -0.0348, -0.6324,\n",
      "        -0.4949, -0.6403, -0.3437,  0.0169, -0.4615, -0.3150, -0.1325, -0.3889,\n",
      "        -0.7000,  0.3644, -0.6114,  0.3902, -0.5657,  0.0388, -0.0580, -0.6352,\n",
      "        -0.6265, -0.6791,  0.7284, -0.3496, -0.5875, -0.2289, -0.2737, -0.3305,\n",
      "        -0.0518,  0.1547,  0.7930, -0.2527, -0.6781,  0.3368, -0.7511,  0.7039,\n",
      "        -0.6196,  0.0493, -0.0536,  0.4554, -0.2113, -0.0763, -0.1332, -0.6376,\n",
      "        -0.3329, -0.7580, -0.6785, -0.6418,  0.4774, -0.7093,  0.3842,  0.3219,\n",
      "         0.1798, -0.4661,  0.6315, -0.8151,  0.3580,  0.5786, -0.5623, -0.5319],\n",
      "       device='cuda:0')\n",
      "tensor([[ 0.7210, -0.4984,  0.4127, -0.7219, -0.2033,  0.3825, -0.0462,  0.4345,\n",
      "          0.0820,  0.5556,  0.2752, -0.0727, -0.6679,  0.5234,  0.3818, -0.5656,\n",
      "         -0.8243,  0.3532,  0.4211, -0.4993,  0.3695, -0.4734,  0.5417,  0.5909,\n",
      "         -0.4235,  0.2128, -0.5488,  0.5808, -0.6091, -0.5267, -0.0543,  0.2949,\n",
      "          0.5653,  0.5681,  0.2199, -0.4654, -0.5213, -0.5260,  0.5612, -0.3477,\n",
      "          0.2735,  0.3445,  0.7838,  0.5659,  0.5437, -0.0140,  0.7300, -0.3489,\n",
      "         -0.2007, -0.7064, -0.3833,  0.5524,  0.2948,  0.2259,  0.7475, -0.7276,\n",
      "          0.0078, -0.1353,  0.5455, -0.4209,  0.7571,  0.7570,  0.5984,  0.1237,\n",
      "          0.5470,  0.5628,  0.6563,  0.1439,  0.5137, -0.5382, -0.0454, -0.5626,\n",
      "          0.5578,  0.5707,  0.4077,  0.3315,  0.5636, -0.4516,  0.2271,  0.6236,\n",
      "          0.4469,  0.7339, -0.4236, -0.5772, -0.5826, -0.0302,  0.0303, -0.5502,\n",
      "          0.5129,  0.5362, -0.7359,  0.1813, -0.5366, -0.4960,  0.2843,  0.4652,\n",
      "          0.0254,  0.7678, -0.8793, -0.5111, -0.2884, -0.3377,  0.3990, -0.7466,\n",
      "         -0.5961,  0.3336, -0.0099, -0.2224,  0.2052, -0.0247,  0.2771, -0.5453,\n",
      "          0.5518,  0.4399,  0.5328, -0.5450,  0.5393,  0.3763, -0.2283, -0.2325,\n",
      "         -0.1647,  0.5770,  0.5915,  0.4482,  0.7928, -0.3816,  0.5654, -0.4913]],\n",
      "       device='cuda:0')\n",
      "tensor([-0.3831], device='cuda:0')\n"
     ]
    }
   ],
   "source": [
    "for param in D.parameters():\n",
    "    print(param.data)"
   ]
  },
  {
   "cell_type": "code",
   "execution_count": null,
   "metadata": {},
   "outputs": [],
   "source": []
  },
  {
   "cell_type": "code",
   "execution_count": null,
   "metadata": {},
   "outputs": [],
   "source": []
  },
  {
   "cell_type": "code",
   "execution_count": null,
   "metadata": {},
   "outputs": [],
   "source": []
  },
  {
   "cell_type": "code",
   "execution_count": null,
   "metadata": {},
   "outputs": [],
   "source": []
  },
  {
   "cell_type": "code",
   "execution_count": null,
   "metadata": {},
   "outputs": [],
   "source": []
  }
 ],
 "metadata": {
  "kernelspec": {
   "display_name": "Python 3",
   "language": "python",
   "name": "python3"
  },
  "language_info": {
   "codemirror_mode": {
    "name": "ipython",
    "version": 3
   },
   "file_extension": ".py",
   "mimetype": "text/x-python",
   "name": "python",
   "nbconvert_exporter": "python",
   "pygments_lexer": "ipython3",
   "version": "3.7.3"
  }
 },
 "nbformat": 4,
 "nbformat_minor": 2
}
